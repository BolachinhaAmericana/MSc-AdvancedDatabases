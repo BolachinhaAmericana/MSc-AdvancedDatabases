{
 "cells": [
  {
   "cell_type": "markdown",
   "metadata": {},
   "source": [
    "# BDA Project"
   ]
  },
  {
   "cell_type": "markdown",
   "metadata": {},
   "source": [
    "- MSc Data Science, FCUL Dec 2024"
   ]
  },
  {
   "cell_type": "markdown",
   "metadata": {},
   "source": [
    "## Settings"
   ]
  },
  {
   "cell_type": "code",
   "execution_count": 1,
   "metadata": {},
   "outputs": [],
   "source": [
    "import pandas as pd\n",
    "import numpy as np\n",
    "import os\n",
    "from dotenv import load_dotenv\n",
    "import time\n",
    "# db imports\n",
    "import mysql.connector\n",
    "from pymongo import MongoClient"
   ]
  },
  {
   "cell_type": "code",
   "execution_count": 2,
   "metadata": {},
   "outputs": [],
   "source": [
    "load_dotenv('./../mysecrets.env')\n",
    "PASSWORD = os.getenv('PASSWORD')\n",
    "IP = os.getenv('IP')"
   ]
  },
  {
   "cell_type": "code",
   "execution_count": 3,
   "metadata": {},
   "outputs": [],
   "source": [
    "# Database connection parameters\n",
    "username = 'valente'\n",
    "password = PASSWORD\n",
    "host = IP\n",
    "port = '3306'\n",
    "database_name = 'DV_student_netlixProject'"
   ]
  },
  {
   "cell_type": "code",
   "execution_count": 4,
   "metadata": {},
   "outputs": [],
   "source": [
    "def connectMySQL(use_db=True):\n",
    "    if use_db:\n",
    "        connection = mysql.connector.connect(\n",
    "            host=IP,\n",
    "            user=\"valente\",\n",
    "            password=PASSWORD,\n",
    "            database=\"DV_student_netlixProject\",\n",
    "            autocommit=True\n",
    "        )\n",
    "    else:\n",
    "        connection = mysql.connector.connect(\n",
    "            host=IP,\n",
    "            user=\"valente\",\n",
    "            password=PASSWORD,\n",
    "            autocommit=True\n",
    "        )\n",
    "    return connection"
   ]
  },
  {
   "cell_type": "markdown",
   "metadata": {},
   "source": [
    "## Preparing Data"
   ]
  },
  {
   "cell_type": "code",
   "execution_count": 5,
   "metadata": {},
   "outputs": [],
   "source": [
    "# Load data into pandas\n",
    "df_titles = pd.read_csv('./../Data/complete_titles.csv')\n",
    "df_credits = pd.read_csv('./../Data/raw_credits.csv')"
   ]
  },
  {
   "cell_type": "code",
   "execution_count": 6,
   "metadata": {},
   "outputs": [
    {
     "data": {
      "text/html": [
       "<div>\n",
       "<style scoped>\n",
       "    .dataframe tbody tr th:only-of-type {\n",
       "        vertical-align: middle;\n",
       "    }\n",
       "\n",
       "    .dataframe tbody tr th {\n",
       "        vertical-align: top;\n",
       "    }\n",
       "\n",
       "    .dataframe thead th {\n",
       "        text-align: right;\n",
       "    }\n",
       "</style>\n",
       "<table border=\"1\" class=\"dataframe\">\n",
       "  <thead>\n",
       "    <tr style=\"text-align: right;\">\n",
       "      <th></th>\n",
       "      <th>title_id</th>\n",
       "      <th>title_name</th>\n",
       "      <th>release_year</th>\n",
       "      <th>num_seasons</th>\n",
       "      <th>runtime</th>\n",
       "      <th>score_imbd</th>\n",
       "      <th>votes_imbd</th>\n",
       "      <th>is_awarded</th>\n",
       "      <th>is_best</th>\n",
       "      <th>is_movie</th>\n",
       "    </tr>\n",
       "  </thead>\n",
       "  <tbody>\n",
       "    <tr>\n",
       "      <th>0</th>\n",
       "      <td>ts300399</td>\n",
       "      <td>Five Came Back: The Reference Films</td>\n",
       "      <td>1945</td>\n",
       "      <td>1.0</td>\n",
       "      <td>48</td>\n",
       "      <td>NaN</td>\n",
       "      <td>NaN</td>\n",
       "      <td>False</td>\n",
       "      <td>False</td>\n",
       "      <td>False</td>\n",
       "    </tr>\n",
       "    <tr>\n",
       "      <th>1</th>\n",
       "      <td>tm84618</td>\n",
       "      <td>Taxi Driver</td>\n",
       "      <td>1976</td>\n",
       "      <td>NaN</td>\n",
       "      <td>113</td>\n",
       "      <td>8.3</td>\n",
       "      <td>795222.0</td>\n",
       "      <td>True</td>\n",
       "      <td>True</td>\n",
       "      <td>True</td>\n",
       "    </tr>\n",
       "    <tr>\n",
       "      <th>2</th>\n",
       "      <td>tm127384</td>\n",
       "      <td>Monty Python and the Holy Grail</td>\n",
       "      <td>1975</td>\n",
       "      <td>NaN</td>\n",
       "      <td>91</td>\n",
       "      <td>8.2</td>\n",
       "      <td>530877.0</td>\n",
       "      <td>True</td>\n",
       "      <td>True</td>\n",
       "      <td>True</td>\n",
       "    </tr>\n",
       "    <tr>\n",
       "      <th>3</th>\n",
       "      <td>tm70993</td>\n",
       "      <td>Life of Brian</td>\n",
       "      <td>1979</td>\n",
       "      <td>NaN</td>\n",
       "      <td>94</td>\n",
       "      <td>8.0</td>\n",
       "      <td>392419.0</td>\n",
       "      <td>True</td>\n",
       "      <td>True</td>\n",
       "      <td>True</td>\n",
       "    </tr>\n",
       "    <tr>\n",
       "      <th>4</th>\n",
       "      <td>tm190788</td>\n",
       "      <td>The Exorcist</td>\n",
       "      <td>1973</td>\n",
       "      <td>NaN</td>\n",
       "      <td>133</td>\n",
       "      <td>8.1</td>\n",
       "      <td>391942.0</td>\n",
       "      <td>True</td>\n",
       "      <td>True</td>\n",
       "      <td>True</td>\n",
       "    </tr>\n",
       "  </tbody>\n",
       "</table>\n",
       "</div>"
      ],
      "text/plain": [
       "   title_id                           title_name  release_year  num_seasons  \\\n",
       "0  ts300399  Five Came Back: The Reference Films          1945          1.0   \n",
       "1   tm84618                          Taxi Driver          1976          NaN   \n",
       "2  tm127384      Monty Python and the Holy Grail          1975          NaN   \n",
       "3   tm70993                        Life of Brian          1979          NaN   \n",
       "4  tm190788                         The Exorcist          1973          NaN   \n",
       "\n",
       "   runtime  score_imbd  votes_imbd  is_awarded  is_best  is_movie  \n",
       "0       48         NaN         NaN       False    False     False  \n",
       "1      113         8.3    795222.0        True     True      True  \n",
       "2       91         8.2    530877.0        True     True      True  \n",
       "3       94         8.0    392419.0        True     True      True  \n",
       "4      133         8.1    391942.0        True     True      True  "
      ]
     },
     "execution_count": 6,
     "metadata": {},
     "output_type": "execute_result"
    }
   ],
   "source": [
    "# setting feature normalized Titles Table\n",
    "table_titles = pd.DataFrame()\n",
    "table_titles[\n",
    "    [\n",
    "    'title_id','title_name','release_year',\n",
    "    'num_seasons','runtime','score_imbd', 'votes_imbd', 'is_awarded',\n",
    "    'is_best']] = df_titles[[\n",
    "    'id', 'title', 'release_year',\n",
    "    'seasons', 'runtime' , 'imdb_score',\n",
    "    'imdb_votes', 'is_awarded', 'is_best']]\n",
    "\n",
    "table_titles['is_movie'] = df_titles['type'].apply(lambda x: x == 'MOVIE')\n",
    "\n",
    "table_titles.head()"
   ]
  },
  {
   "cell_type": "code",
   "execution_count": 7,
   "metadata": {},
   "outputs": [
    {
     "data": {
      "text/html": [
       "<div>\n",
       "<style scoped>\n",
       "    .dataframe tbody tr th:only-of-type {\n",
       "        vertical-align: middle;\n",
       "    }\n",
       "\n",
       "    .dataframe tbody tr th {\n",
       "        vertical-align: top;\n",
       "    }\n",
       "\n",
       "    .dataframe thead th {\n",
       "        text-align: right;\n",
       "    }\n",
       "</style>\n",
       "<table border=\"1\" class=\"dataframe\">\n",
       "  <thead>\n",
       "    <tr style=\"text-align: right;\">\n",
       "      <th></th>\n",
       "      <th>person_id</th>\n",
       "      <th>person_name</th>\n",
       "    </tr>\n",
       "  </thead>\n",
       "  <tbody>\n",
       "    <tr>\n",
       "      <th>0</th>\n",
       "      <td>3748.0</td>\n",
       "      <td>Robert De Niro</td>\n",
       "    </tr>\n",
       "    <tr>\n",
       "      <th>1</th>\n",
       "      <td>14658.0</td>\n",
       "      <td>Jodie Foster</td>\n",
       "    </tr>\n",
       "    <tr>\n",
       "      <th>2</th>\n",
       "      <td>7064.0</td>\n",
       "      <td>Albert Brooks</td>\n",
       "    </tr>\n",
       "    <tr>\n",
       "      <th>3</th>\n",
       "      <td>3739.0</td>\n",
       "      <td>Harvey Keitel</td>\n",
       "    </tr>\n",
       "    <tr>\n",
       "      <th>4</th>\n",
       "      <td>48933.0</td>\n",
       "      <td>Cybill Shepherd</td>\n",
       "    </tr>\n",
       "  </tbody>\n",
       "</table>\n",
       "</div>"
      ],
      "text/plain": [
       "   person_id      person_name\n",
       "0     3748.0   Robert De Niro\n",
       "1    14658.0     Jodie Foster\n",
       "2     7064.0    Albert Brooks\n",
       "3     3739.0    Harvey Keitel\n",
       "4    48933.0  Cybill Shepherd"
      ]
     },
     "execution_count": 7,
     "metadata": {},
     "output_type": "execute_result"
    }
   ],
   "source": [
    "# setting feature normalized Persons Table\n",
    "table_persons = pd.DataFrame()\n",
    "table_persons['person_id'] = df_credits['person_id']\n",
    "table_persons['person_name'] = df_credits['name']\n",
    "table_persons['person_id'] = table_persons['person_id'].drop_duplicates(keep='first')\n",
    "table_persons = table_persons.dropna()\n",
    "table_persons.head()"
   ]
  },
  {
   "cell_type": "code",
   "execution_count": 8,
   "metadata": {},
   "outputs": [
    {
     "data": {
      "text/html": [
       "<div>\n",
       "<style scoped>\n",
       "    .dataframe tbody tr th:only-of-type {\n",
       "        vertical-align: middle;\n",
       "    }\n",
       "\n",
       "    .dataframe tbody tr th {\n",
       "        vertical-align: top;\n",
       "    }\n",
       "\n",
       "    .dataframe thead th {\n",
       "        text-align: right;\n",
       "    }\n",
       "</style>\n",
       "<table border=\"1\" class=\"dataframe\">\n",
       "  <thead>\n",
       "    <tr style=\"text-align: right;\">\n",
       "      <th></th>\n",
       "      <th>title_id</th>\n",
       "      <th>person_id</th>\n",
       "      <th>character</th>\n",
       "      <th>is_actor</th>\n",
       "    </tr>\n",
       "  </thead>\n",
       "  <tbody>\n",
       "    <tr>\n",
       "      <th>0</th>\n",
       "      <td>tm84618</td>\n",
       "      <td>3748</td>\n",
       "      <td>Travis Bickle</td>\n",
       "      <td>True</td>\n",
       "    </tr>\n",
       "    <tr>\n",
       "      <th>1</th>\n",
       "      <td>tm84618</td>\n",
       "      <td>14658</td>\n",
       "      <td>Iris Steensma</td>\n",
       "      <td>True</td>\n",
       "    </tr>\n",
       "    <tr>\n",
       "      <th>2</th>\n",
       "      <td>tm84618</td>\n",
       "      <td>7064</td>\n",
       "      <td>Tom</td>\n",
       "      <td>True</td>\n",
       "    </tr>\n",
       "    <tr>\n",
       "      <th>3</th>\n",
       "      <td>tm84618</td>\n",
       "      <td>3739</td>\n",
       "      <td>Matthew 'Sport' Higgins</td>\n",
       "      <td>True</td>\n",
       "    </tr>\n",
       "    <tr>\n",
       "      <th>4</th>\n",
       "      <td>tm84618</td>\n",
       "      <td>48933</td>\n",
       "      <td>Betsy</td>\n",
       "      <td>True</td>\n",
       "    </tr>\n",
       "  </tbody>\n",
       "</table>\n",
       "</div>"
      ],
      "text/plain": [
       "  title_id  person_id                character  is_actor\n",
       "0  tm84618       3748            Travis Bickle      True\n",
       "1  tm84618      14658            Iris Steensma      True\n",
       "2  tm84618       7064                      Tom      True\n",
       "3  tm84618       3739  Matthew 'Sport' Higgins      True\n",
       "4  tm84618      48933                    Betsy      True"
      ]
     },
     "execution_count": 8,
     "metadata": {},
     "output_type": "execute_result"
    }
   ],
   "source": [
    "# setting feature normlized Roles Table\n",
    "table_roles = pd.DataFrame()\n",
    "table_roles[['title_id','person_id', 'character']] = df_credits[['id', 'person_id', 'character']]\n",
    "table_roles['is_actor'] = df_credits['role'].apply(lambda x: x == 'ACTOR')\n",
    "table_roles.head()"
   ]
  },
  {
   "cell_type": "code",
   "execution_count": 9,
   "metadata": {},
   "outputs": [],
   "source": [
    "table_genres = pd.DataFrame()\n",
    "table_countries = pd.DataFrame()"
   ]
  },
  {
   "cell_type": "markdown",
   "metadata": {},
   "source": [
    "## Database Creation"
   ]
  },
  {
   "cell_type": "markdown",
   "metadata": {},
   "source": [
    "### Relational MySQL DB Creation"
   ]
  },
  {
   "cell_type": "code",
   "execution_count": 10,
   "metadata": {},
   "outputs": [
    {
     "name": "stdout",
     "output_type": "stream",
     "text": [
      "Database DV_student_netlixProject dropped.\n",
      "Database DV_student_netlixProject created.\n"
     ]
    }
   ],
   "source": [
    "# Drop and recreate the database\n",
    "connection=connectMySQL(use_db=False)\n",
    "\n",
    "with connection.cursor() as cursor:\n",
    "    try:\n",
    "        cursor.execute(f\"DROP DATABASE IF EXISTS {database_name}\")\n",
    "        print(f\"Database {database_name} dropped.\")\n",
    "        cursor.execute(f\"CREATE DATABASE {database_name}\")\n",
    "        print(f\"Database {database_name} created.\")\n",
    "    except mysql.connector.Error as err:\n",
    "        print(f\"Error: {err}\")\n"
   ]
  },
  {
   "cell_type": "code",
   "execution_count": 11,
   "metadata": {},
   "outputs": [],
   "source": [
    "# Drop and recreate the tables\n",
    "table_names = ['Titles', 'Genres','Countries', 'Roles', 'Persons']\n",
    "\n",
    "def delete_tables(table_names:list) -> None: \n",
    "    with connection.cursor as cursor:\n",
    "        for table in table_names:\n",
    "            try:\n",
    "                cursor.execute(f\"DROP TABLE IF EXISTS {table}\")\n",
    "                print(f\"Database {table} dropped.\")\n",
    "            except mysql.connector.Error as err:\n",
    "                print(f\"Error: {err}\")"
   ]
  },
  {
   "cell_type": "code",
   "execution_count": 12,
   "metadata": {},
   "outputs": [],
   "source": [
    "# Create Titles table\n",
    "\n",
    "connection=connectMySQL(use_db=True)\n",
    "\n",
    "while True:\n",
    "    try:\n",
    "        with connection.cursor() as cursor:\n",
    "            cursor.execute(\"\"\"\n",
    "            CREATE TABLE Titles (\n",
    "                title_id CHAR(10),\n",
    "                title_name VARCHAR(128) NOT NULL,\n",
    "                release_year INT NOT NULL,\n",
    "                media_type_is_movie BOOLEAN NOT NULL,\n",
    "                show_seasons INT,\n",
    "                title_runtime INT,\n",
    "                votes_imdb INT,\n",
    "                score_imdb FLOAT,\n",
    "                is_awarded BOOLEAN NOT NULL,\n",
    "                is_best BOOLEAN NOT NULL,\n",
    "\n",
    "                PRIMARY KEY (title_id)\n",
    "            );\n",
    "            \"\"\")\n",
    "            # Create Genres Table\n",
    "            cursor.execute( \"\"\"\n",
    "            CREATE TABLE Genres(\n",
    "                Genre_name VARCHAR(50),\n",
    "                Title_id CHAR(10),\n",
    "\n",
    "                PRIMARY KEY (Title_id, Genre_name),\n",
    "                FOREIGN KEY (Title_id) REFERENCES Titles(Title_id)\n",
    "            );\n",
    "            \"\"\")\n",
    "\n",
    "            # Create Country Table\n",
    "            cursor.execute(\"\"\"\n",
    "            CREATE TABLE Countries(\n",
    "                Country_code VARCHAR(10),\n",
    "                Title_id CHAR(10),\n",
    "\n",
    "                PRIMARY KEY (Title_id, Country_code),\n",
    "                FOREIGN KEY (Title_id) REFERENCES Titles(Title_id)\n",
    "            );\n",
    "            \"\"\")\n",
    "\n",
    "            # Create Persons Table\n",
    "            cursor.execute(\"\"\" \n",
    "            CREATE TABLE Persons(\n",
    "                person_id INT,\n",
    "                personName VARCHAR(128) NOT NULL,\n",
    "\n",
    "                PRIMARY KEY (person_id)\n",
    "            );\n",
    "            \"\"\")\n",
    "\n",
    "            # Crate Roles Table\n",
    "            cursor.execute(\"\"\" \n",
    "            CREATE TABLE Roles(\n",
    "                role_id INT AUTO_INCREMENT,\n",
    "                person_id INT NOT NULL,\n",
    "                title_id CHAR(10) NOT NULL,\n",
    "                role_character VARCHAR(1000),\n",
    "                role_isActor BOOLEAN NOT NULL,\n",
    "\n",
    "                PRIMARY KEY (role_id),\n",
    "                FOREIGN KEY (person_id) REFERENCES Persons(person_id),\n",
    "                FOREIGN KEY (title_id) REFERENCES Titles(title_id)\n",
    "            );\n",
    "            \"\"\")\n",
    "            break\n",
    "\n",
    "    except mysql.connector.Error as err:\n",
    "        print(err)\n",
    "        delete_tables(table_names)"
   ]
  },
  {
   "cell_type": "markdown",
   "metadata": {},
   "source": [
    "## Inserting Data into Database"
   ]
  },
  {
   "cell_type": "markdown",
   "metadata": {},
   "source": [
    "### Relational MySQL DB Inserting Data"
   ]
  },
  {
   "cell_type": "code",
   "execution_count": 13,
   "metadata": {},
   "outputs": [],
   "source": [
    "for row in table_titles.iloc: # Adding Data to Titles Table\n",
    "    title_id, title_name, release_year, num_seasons, runtime, score_imbd, votes_imbd, is_awarded, is_best, is_movie = row\n",
    "\n",
    "    query = \"\"\"\n",
    "INSERT INTO Titles (title_id, title_name, release_year, media_type_is_movie, show_seasons, title_runtime, votes_imdb, score_imdb, is_awarded, is_best)\n",
    "VALUES (%s, %s, %s, %s, %s, %s, %s, %s, %s, %s)\n",
    "\"\"\"\n",
    "    with connection.cursor() as cursor:\n",
    "        cursor.execute(query, (str(title_id),\n",
    "                            str(title_name),\n",
    "                            int(release_year),\n",
    "                            bool(is_movie),\n",
    "                            int(num_seasons) if not np.isnan(num_seasons) else None,\n",
    "                            int(runtime) if not np.isnan(runtime) else None, \n",
    "                            int(votes_imbd) if not np.isnan(votes_imbd) else None,\n",
    "                            float(score_imbd) if not np.isnan(score_imbd) else None,\n",
    "                            bool(is_awarded),\n",
    "                            bool(is_best)))"
   ]
  },
  {
   "cell_type": "code",
   "execution_count": 14,
   "metadata": {},
   "outputs": [],
   "source": [
    "for row in table_persons.iloc: # Adding Data to Persons Table\n",
    "\n",
    "    person_id, person_name = row\n",
    "\n",
    "    query = \"INSERT INTO Persons (person_id, personName) VALUES (%s, %s)\"\n",
    "    \n",
    "    with connection.cursor() as cursor:\n",
    "        cursor.execute(query, (int(person_id),\n",
    "                            str(person_name)))"
   ]
  },
  {
   "cell_type": "code",
   "execution_count": 15,
   "metadata": {},
   "outputs": [],
   "source": [
    "for row in table_roles.iloc: # Adding Data to Roles Table\n",
    "    title_id, person_id, character, role = row\n",
    "    query = \"\"\" \n",
    "INSERT INTO Roles (person_id, title_id, role_character, role_isActor)\n",
    "VALUES (%s,%s,%s,%s)\n",
    "\"\"\"\n",
    "    with connection.cursor() as cursor:\n",
    "        cursor.execute(query, (int(person_id),\n",
    "                            str(title_id),\n",
    "                            str(character),\n",
    "                            bool(role)))"
   ]
  },
  {
   "cell_type": "code",
   "execution_count": 16,
   "metadata": {},
   "outputs": [],
   "source": [
    "connection.commit() # Commit Changes to DB"
   ]
  },
  {
   "cell_type": "markdown",
   "metadata": {},
   "source": [
    "## Query Databases with&without optimization"
   ]
  },
  {
   "cell_type": "markdown",
   "metadata": {},
   "source": [
    "### Relational MySQL Queries"
   ]
  },
  {
   "cell_type": "code",
   "execution_count": 17,
   "metadata": {},
   "outputs": [],
   "source": [
    "query_1_SQL = []\n",
    "query_2_SQL = []\n",
    "query_3_SQL = []\n",
    "query_4_SQL = []"
   ]
  },
  {
   "cell_type": "markdown",
   "metadata": {},
   "source": [
    "#### Query 1"
   ]
  },
  {
   "cell_type": "markdown",
   "metadata": {},
   "source": [
    "Get Average Movie of the Year Runtime"
   ]
  },
  {
   "cell_type": "markdown",
   "metadata": {},
   "source": [
    "##### No Index"
   ]
  },
  {
   "cell_type": "code",
   "execution_count": 18,
   "metadata": {},
   "outputs": [
    {
     "name": "stdout",
     "output_type": "stream",
     "text": [
      "MOTY Average Runtime: 129.9592 time: 0.0005464553833007812\n"
     ]
    }
   ],
   "source": [
    "connection = connectMySQL()\n",
    "cursor = connection.cursor()\n",
    "query_1 = \"SELECT AVG(title_runtime) FROM Titles WHERE is_awarded = 1 AND media_type_is_movie = 1;\"\n",
    "\n",
    "start_time = time.time()\n",
    "cursor.execute(query_1)\n",
    "end_time = time.time()\n",
    "result = cursor.fetchone()\n",
    "cursor.close()\n",
    "connection.close()\n",
    "\n",
    "print(\"MOTY Average Runtime:\",result[0], \"time:\", end_time - start_time)\n",
    "query_1_SQL.append(end_time - start_time)"
   ]
  },
  {
   "cell_type": "markdown",
   "metadata": {},
   "source": [
    "##### With Index"
   ]
  },
  {
   "cell_type": "markdown",
   "metadata": {},
   "source": [
    "Using Hash Index because we are working with set values and not with operations that would involve iterating trough the data. \n",
    "Not only this but the query doesn't involve any operation that loops through all data comparing values."
   ]
  },
  {
   "cell_type": "code",
   "execution_count": 19,
   "metadata": {},
   "outputs": [
    {
     "name": "stdout",
     "output_type": "stream",
     "text": [
      "Running: CREATE INDEX index_isAwardedMovie ON Titles (is_awarded, media_type_is_movie) USING HASH;\n",
      "Index Created Successfully\n",
      "MOTY Average Runtime: 129.9592 time: 0.0010297298431396484\n"
     ]
    }
   ],
   "source": [
    "connection = connectMySQL()\n",
    "cursor = connection.cursor()\n",
    "\n",
    "index_query_1 = \"CREATE INDEX index_isAwardedMovie ON Titles (is_awarded, media_type_is_movie) USING HASH;\"\n",
    "\n",
    "try:\n",
    "    print(f\"Running: {index_query_1}\")\n",
    "    cursor.execute(index_query_1)\n",
    "    print(\"Index Created Successfully\")\n",
    "except mysql.connector.Error as err:\n",
    "    print(f\"Error creating indexes: {err}\")\n",
    "\n",
    "start_time = time.time()\n",
    "cursor.execute(query_1)\n",
    "end_time = time.time()\n",
    "result = cursor.fetchone()\n",
    "\n",
    "cursor.close()\n",
    "connection.close()\n",
    "\n",
    "print(\"MOTY Average Runtime:\",result[0], \"time:\", end_time - start_time)\n",
    "query_1_SQL.append(end_time - start_time)"
   ]
  },
  {
   "cell_type": "markdown",
   "metadata": {},
   "source": [
    "#### Query 2"
   ]
  },
  {
   "cell_type": "markdown",
   "metadata": {},
   "source": [
    "Get Highest Scored Movie released in 2020 that hasn't been awarded"
   ]
  },
  {
   "cell_type": "markdown",
   "metadata": {},
   "source": [
    "##### NoIndex"
   ]
  },
  {
   "cell_type": "code",
   "execution_count": 20,
   "metadata": {},
   "outputs": [
    {
     "name": "stdout",
     "output_type": "stream",
     "text": [
      "\n",
      "Movie: Sky Tour: The Movie\n",
      "Release Year: 2020\n",
      "IMDB Score: 8.8\n",
      "Execution Time > 0.003163576126098633\n",
      "\n"
     ]
    }
   ],
   "source": [
    "connection = connectMySQL()\n",
    "cursor = connection.cursor()\n",
    "query_2 = \"\"\"\n",
    "SELECT title_name, score_imdb, release_year FROM Titles\n",
    "WHERE is_awarded = 0 AND media_type_is_movie = 1 AND release_year = 2020\n",
    "ORDER BY score_imdb DESC LIMIT 1;\"\"\"\n",
    "start_time = time.time()\n",
    "cursor.execute(query_2)\n",
    "end_time = time.time()\n",
    "result = cursor.fetchone()\n",
    "cursor.close()\n",
    "connection.close()\n",
    "\n",
    "print(f\"\"\"\n",
    "Movie: {result[0]}\n",
    "Release Year: {result[2]}\n",
    "IMDB Score: {result[1]}\n",
    "Execution Time > {end_time-start_time}\n",
    "\"\"\")\n",
    "query_2_SQL.append(end_time - start_time)"
   ]
  },
  {
   "cell_type": "markdown",
   "metadata": {},
   "source": [
    "##### With Index"
   ]
  },
  {
   "cell_type": "markdown",
   "metadata": {},
   "source": [
    "For this query, even though at first glance it seems to be a situation in which using a hash index would be prefereable, we are going to use b-tree index.\\\n",
    "This is because the query uses an operation that will loop and compare all items, sorting them and presenting them in descending order."
   ]
  },
  {
   "cell_type": "code",
   "execution_count": 21,
   "metadata": {},
   "outputs": [
    {
     "name": "stdout",
     "output_type": "stream",
     "text": [
      "Running: CREATE INDEX index_AwardedMovieScore2020 ON Titles (is_awarded, media_type_is_movie, release_year, score_imdb DESC);\n",
      "Index Created Successfully\n",
      "\n",
      "Movie: Sky Tour: The Movie\n",
      "Release Year: 2020\n",
      "IMDB Score: 8.8\n",
      "Execution Time > 0.0\n",
      "\n"
     ]
    }
   ],
   "source": [
    "connection = connectMySQL()\n",
    "cursor = connection.cursor()\n",
    "index_query_2 = \"CREATE INDEX index_AwardedMovieScore2020 ON Titles (is_awarded, media_type_is_movie, release_year, score_imdb DESC);\"\n",
    "\n",
    "try:\n",
    "    print(f\"Running: {index_query_2}\")\n",
    "    cursor.execute(index_query_2)\n",
    "    print(\"Index Created Successfully\")\n",
    "except mysql.connector.Error as err:\n",
    "    print(f\"Error creating indexes: {err}\")\n",
    "\n",
    "start_time = time.time()\n",
    "cursor.execute(query_2)\n",
    "end_time = time.time()\n",
    "result = cursor.fetchone()\n",
    "cursor.close()\n",
    "connection.close()\n",
    "\n",
    "print(f\"\"\"\n",
    "Movie: {result[0]}\n",
    "Release Year: {result[2]}\n",
    "IMDB Score: {result[1]}\n",
    "Execution Time > {end_time-start_time}\n",
    "\"\"\")\n",
    "query_2_SQL.append(end_time - start_time)"
   ]
  },
  {
   "cell_type": "markdown",
   "metadata": {},
   "source": [
    "#### Query 3"
   ]
  },
  {
   "cell_type": "markdown",
   "metadata": {},
   "source": [
    "Find the Actor with the most roles in Awarded Movies "
   ]
  },
  {
   "cell_type": "markdown",
   "metadata": {},
   "source": [
    "##### No Index"
   ]
  },
  {
   "cell_type": "code",
   "execution_count": 22,
   "metadata": {},
   "outputs": [
    {
     "name": "stdout",
     "output_type": "stream",
     "text": [
      "\n",
      "Actor: Aamir Khan\n",
      "Role Count: 5\n",
      "Execution Time > 0.003587961196899414\n",
      "\n"
     ]
    }
   ],
   "source": [
    "connection = connectMySQL()\n",
    "cursor = connection.cursor()\n",
    "query_3 = \"\"\"\n",
    "SELECT pTable.personName, COUNT(rTable.role_id) AS role_count\n",
    "FROM Roles rTable\n",
    "JOIN Persons pTable ON rTable.person_id = pTable.person_id      -- Join Persons PK to Roles FK (person_id)\n",
    "JOIN Titles tTable ON rTable.title_id = tTable.title_id         -- Join Titles PK to Roles FK (title_id)\n",
    "WHERE rTable.role_isActor = 1 AND tTable.is_awarded = 1         -- Filthers Actor & Awarded\n",
    "GROUP BY pTable.personName                                      -- Apply to Person Name\n",
    "ORDER BY role_count DESC                                        -- Top to Bottom\n",
    "LIMIT 1;\n",
    "\"\"\"\n",
    "start_time = time.time()\n",
    "cursor.execute(query_3)\n",
    "end_time = time.time()\n",
    "result = cursor.fetchone()\n",
    "cursor.close()\n",
    "connection.close()\n",
    "\n",
    "print(f\"\"\"\n",
    "Actor: {result[0]}\n",
    "Role Count: {result[1]}\n",
    "Execution Time > {end_time-start_time}\n",
    "\"\"\")\n",
    "query_3_SQL.append(end_time - start_time)"
   ]
  },
  {
   "cell_type": "markdown",
   "metadata": {},
   "source": [
    "##### With Index"
   ]
  },
  {
   "cell_type": "markdown",
   "metadata": {},
   "source": [
    "As query-3 is the first complex querie we will be debunking the elements to index for clarity.\n",
    "\n",
    "- The target operations for our querie will be the WHERE, JOIN and GROUP/ORDER BY operations.\n",
    "1. Starting in Roles Table where we simply \"merge\" all relevant features into a single index.\n",
    "2. In Titles Table. Here we index the WHERE clause and the title id.\n",
    "3. On Persons Table we simply index the name/id into feature.\n",
    "\n",
    "All these indexes are BTree indexes (MySQL default) because we are not looking any particular condition but rather the first element of an ordered list."
   ]
  },
  {
   "cell_type": "code",
   "execution_count": 23,
   "metadata": {},
   "outputs": [
    {
     "name": "stdout",
     "output_type": "stream",
     "text": [
      "Running: CREATE INDEX index_ActorKeys ON Roles (role_isActor, title_id, person_id);\n",
      "Running: CREATE INDEX index_AwardedTitles ON Titles (is_awarded, title_id);\n",
      "Running: CREATE INDEX index_Person ON Persons (person_id, personName);\n",
      "\n",
      "Actor: Aamir Khan\n",
      "Role Count: 5\n",
      "Execution Time > 0.005101680755615234\n",
      "\n"
     ]
    }
   ],
   "source": [
    "indexes = [\n",
    "    \"CREATE INDEX index_ActorKeys ON Roles (role_isActor, title_id, person_id);\",\n",
    "    \"CREATE INDEX index_AwardedTitles ON Titles (is_awarded, title_id);\",\n",
    "    \"CREATE INDEX index_Person ON Persons (person_id, personName);\"\n",
    "]\n",
    "\n",
    "connection = connectMySQL()\n",
    "cursor = connection.cursor()\n",
    "\n",
    "try:\n",
    "    for index_query in indexes:\n",
    "        print(f\"Running: {index_query}\")\n",
    "        cursor.execute(index_query)\n",
    "except mysql.connector.Error as err:\n",
    "    print(f\"Error creating indexes: {err}\")\n",
    "\n",
    "start_time = time.time()\n",
    "cursor.execute(query_3)\n",
    "end_time = time.time()\n",
    "result = cursor.fetchone()\n",
    "cursor.close()\n",
    "connection.close()\n",
    "\n",
    "print(f\"\"\"\n",
    "Actor: {result[0]}\n",
    "Role Count: {result[1]}\n",
    "Execution Time > {end_time-start_time}\n",
    "\"\"\")\n",
    "query_3_SQL.append(end_time - start_time)"
   ]
  },
  {
   "cell_type": "markdown",
   "metadata": {},
   "source": [
    "#### Query 4"
   ]
  },
  {
   "cell_type": "markdown",
   "metadata": {},
   "source": [
    "Find Actor with the highest average title IMDB score before the year of 2010 and their titles total runtime."
   ]
  },
  {
   "cell_type": "markdown",
   "metadata": {},
   "source": [
    "##### No Index"
   ]
  },
  {
   "cell_type": "code",
   "execution_count": 24,
   "metadata": {},
   "outputs": [
    {
     "name": "stdout",
     "output_type": "stream",
     "text": [
      "Actor Name: Kim Sung-kyun,\n",
      "Total Runtime: 157,\n",
      "Average Score: 9.199999809265137,\n",
      "Total Titles: 2\n",
      "Time > 0.2917149066925049\n"
     ]
    }
   ],
   "source": [
    "connection = connectMySQL()\n",
    "cursor = connection.cursor()\n",
    "query_4 = \"\"\"\n",
    "SELECT pTable.personName, SUM(tTable.title_runtime)AS total_runtime, AVG(tTable.score_imdb) AS average_score, COUNT(tTable.title_id) AS num_titles -- Set outputs\n",
    "FROM Titles tTable\n",
    "JOIN Roles rTable ON tTable.title_id = rTable.title_id          -- Join Roles FK to Titles PK  (title_id)\n",
    "JOIN Persons pTable ON rTable.person_id = pTable.person_id      -- Join Roles FK to Persons PK (person_id) \n",
    "WHERE tTable.release_year > 2009\n",
    "GROUP BY pTable.personName                                      -- Set personName as the SELECT target \n",
    "ORDER BY average_score DESC                                     -- Highest to Smallest sum of the runtime\n",
    "LIMIT 1;                                                        -- filter only the 1st result (Highest)\n",
    "\"\"\"\n",
    "start_time = time.time()\n",
    "cursor.execute(query_4)\n",
    "end_time = time.time()\n",
    "result = cursor.fetchone()\n",
    "cursor.close()\n",
    "connection.close()\n",
    "\n",
    "print(f\"Actor Name: {result[0]},\\nTotal Runtime: {result[1]},\\nAverage Score: {result[2]},\\nTotal Titles: {result[3]}\")\n",
    "print(\"Time >\", end_time-start_time)\n",
    "query_4_SQL.append(end_time - start_time)"
   ]
  },
  {
   "cell_type": "markdown",
   "metadata": {},
   "source": [
    "##### With Index"
   ]
  },
  {
   "cell_type": "markdown",
   "metadata": {},
   "source": [
    "This 4th and final query is relatively simmilar to query 3 so we will skip the index explanation.\\\n",
    "All indexes are BTree indexes as we will be ordering the average score in the end."
   ]
  },
  {
   "cell_type": "code",
   "execution_count": 25,
   "metadata": {},
   "outputs": [
    {
     "name": "stdout",
     "output_type": "stream",
     "text": [
      "Running: CREATE INDEX index_TitleYearScoreTime ON Titles (release_year, title_runtime, score_imdb, title_id);\n",
      "Running: CREATE INDEX index_RolesIDs ON Roles (title_id, person_id);\n",
      "Running: CREATE INDEX index_Person ON Persons (person_id, personName);\n",
      "Error creating indexes: 1061 (42000): Duplicate key name 'index_Person'\n",
      "Actor Name: Kim Sung-kyun,\n",
      "Total Runtime: 157,\n",
      "Average Score: 9.199999809265137,\n",
      "Total Titles: 2\n",
      "Time > 0.2508509159088135\n"
     ]
    }
   ],
   "source": [
    "connection = connectMySQL()\n",
    "cursor = connection.cursor()\n",
    "\n",
    "indexes = [\n",
    "    \"CREATE INDEX index_TitleYearScoreTime ON Titles (release_year, title_runtime, score_imdb, title_id);\",\n",
    "    \"CREATE INDEX index_RolesIDs ON Roles (title_id, person_id);\",\n",
    "    \"CREATE INDEX index_Person ON Persons (person_id, personName);\" # Already created in query_3\n",
    "]\n",
    "\n",
    "try:\n",
    "    for index_query in indexes:\n",
    "        print(f\"Running: {index_query}\")\n",
    "        cursor.execute(index_query)\n",
    "except mysql.connector.Error as err:\n",
    "    print(f\"Error creating indexes: {err}\")\n",
    "\n",
    "start_time = time.time()\n",
    "cursor.execute(query_4)\n",
    "end_time = time.time()\n",
    "result = cursor.fetchone()\n",
    "cursor.close()\n",
    "connection.close()\n",
    "\n",
    "print(f\"Actor Name: {result[0]},\\nTotal Runtime: {result[1]},\\nAverage Score: {result[2]},\\nTotal Titles: {result[3]}\")\n",
    "print(\"Time >\", end_time-start_time)\n",
    "query_4_SQL.append(end_time - start_time)"
   ]
  }
 ],
 "metadata": {
  "kernelspec": {
   "display_name": "mestrado",
   "language": "python",
   "name": "python3"
  },
  "language_info": {
   "codemirror_mode": {
    "name": "ipython",
    "version": 3
   },
   "file_extension": ".py",
   "mimetype": "text/x-python",
   "name": "python",
   "nbconvert_exporter": "python",
   "pygments_lexer": "ipython3",
   "version": "3.12.7"
  }
 },
 "nbformat": 4,
 "nbformat_minor": 2
}
