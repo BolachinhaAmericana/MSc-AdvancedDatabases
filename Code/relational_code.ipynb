{
 "cells": [
  {
   "cell_type": "code",
   "execution_count": 1,
   "metadata": {},
   "outputs": [],
   "source": [
    "import os\n",
    "import mysql.connector\n",
    "from dotenv import load_dotenv\n",
    "import pandas as pd"
   ]
  },
  {
   "cell_type": "code",
   "execution_count": 2,
   "metadata": {},
   "outputs": [
    {
     "name": "stdout",
     "output_type": "stream",
     "text": [
      "Database DV_student_netlixProject dropped.\n",
      "Database DV_student_netlixProject created.\n",
      "Using database DV_student_netlixProject.\n"
     ]
    }
   ],
   "source": [
    "# Load environment variables\n",
    "load_dotenv('./../mysecrets.env')\n",
    "PASSWORD = os.getenv('PASSWORD')\n",
    "IP = os.getenv('IP')\n",
    "\n",
    "# Database connection parameters\n",
    "username = 'valente'\n",
    "password = PASSWORD\n",
    "host = IP\n",
    "port = '3306'\n",
    "database_name = 'DV_student_netlixProject'\n",
    "\n",
    "# Load data into pandas\n",
    "df_titles = pd.read_csv('./../Data/complete_titles.csv')\n",
    "df_credits = pd.read_csv('./../Data/raw_credits.csv')\n",
    "\n",
    "# Establish MySQL connection\n",
    "connection = mysql.connector.connect(\n",
    "    host=host,\n",
    "    user=username,\n",
    "    password=password,\n",
    "    port=port\n",
    ")\n",
    "cursor = connection.cursor()\n",
    "\n",
    "# Drop and recreate the database\n",
    "try:\n",
    "    cursor.execute(f\"DROP DATABASE IF EXISTS {database_name}\")\n",
    "    print(f\"Database {database_name} dropped.\")\n",
    "    cursor.execute(f\"CREATE DATABASE {database_name}\")\n",
    "    print(f\"Database {database_name} created.\")\n",
    "except mysql.connector.Error as err:\n",
    "    print(f\"Error: {err}\")\n",
    "\n",
    "# Use the new database\n",
    "try:\n",
    "    cursor.execute(f\"USE {database_name}\")\n",
    "    print(f\"Using database {database_name}.\")\n",
    "except mysql.connector.Error as err:\n",
    "    print(f\"Error: {err}\")\n",
    "\n",
    "# Close the connection\n",
    "#cursor.close()\n",
    "#connection.close()"
   ]
  },
  {
   "cell_type": "markdown",
   "metadata": {},
   "source": [
    "# creating Relational, MySQL Database"
   ]
  },
  {
   "cell_type": "code",
   "execution_count": 3,
   "metadata": {},
   "outputs": [],
   "source": [
    "table_names = ['Titles', 'Genres','Countries', 'Roles', 'Persons']\n",
    "\n",
    "def delete_tables(table_names:list) -> None:  \n",
    "    for table in table_names:\n",
    "        try:\n",
    "            cursor.execute(f\"DROP TABLE IF EXISTS {table}\")\n",
    "            print(f\"Database {table} dropped.\")\n",
    "        except mysql.connector.Error as err:\n",
    "            print(f\"Error: {err}\")\n"
   ]
  },
  {
   "cell_type": "code",
   "execution_count": 4,
   "metadata": {},
   "outputs": [],
   "source": [
    "# Create Titles table\n",
    "while True:\n",
    "    try:\n",
    "        cursor.execute(\"\"\"\n",
    "        CREATE TABLE Titles (\n",
    "            title_id INT,\n",
    "            title_name VARCHAR(100) NOT NULL,\n",
    "            release_year INT NOT NULL,\n",
    "            media_type_is_movie BOOLEAN,\n",
    "            show_seasons INT,\n",
    "            title_runtime INT,\n",
    "            votes_imdb INT,\n",
    "            score_imdb FLOAT,\n",
    "            is_awarded BOOLEAN,\n",
    "            is_best BOOLEAN,\n",
    "                                    \n",
    "            PRIMARY KEY (title_id)\n",
    "        );\n",
    "        \"\"\")\n",
    "\n",
    "        # Create Genres Table\n",
    "        cursor.execute( \"\"\"\n",
    "        CREATE TABLE Genres(\n",
    "            Genre_name VARCHAR(50),\n",
    "            Title_id INT,\n",
    "                            \n",
    "            PRIMARY KEY (Title_id, Genre_name),\n",
    "            FOREIGN KEY (Title_id) REFERENCES Titles(Title_id)\n",
    "        ); \"\"\")\n",
    "\n",
    "        # Create Country Table\n",
    "        cursor.execute( \"\"\"\n",
    "        CREATE TABLE Countries(\n",
    "            Country_code VARCHAR(10),\n",
    "            Title_id INT,\n",
    "                            \n",
    "            PRIMARY KEY (Title_id, Country_code),\n",
    "            FOREIGN KEY (Title_id) REFERENCES Titles(Title_id)\n",
    "        ); \"\"\")\n",
    "\n",
    "        # Create Persons Table\n",
    "        cursor.execute( \"\"\" \n",
    "        CREATE TABLE Persons(\n",
    "            person_id INT,\n",
    "            personName VARCHAR(50),\n",
    "                            \n",
    "            PRIMARY KEY (person_id)); \"\"\")\n",
    "\n",
    "        # Crate Roles Table\n",
    "        cursor.execute( \"\"\" \n",
    "        CREATE TABLE Roles(\n",
    "            role_id INT AUTO_INCREMENT,\n",
    "            person_id INT NOT NULL,\n",
    "            title_id INT NOT NULL,\n",
    "            role_character VARCHAR(100),\n",
    "            role_isActor BOOLEAN,\n",
    "                            \n",
    "            PRIMARY KEY (role_id),\n",
    "            FOREIGN KEY (person_id) REFERENCES Persons(person_id),\n",
    "            FOREIGN KEY (title_id) REFERENCES Titles(title_id)\n",
    "        );\"\"\")\n",
    "        break\n",
    "\n",
    "    except mysql.connector.Error as err:\n",
    "        print(err)\n",
    "        delete_tables(table_names)"
   ]
  },
  {
   "cell_type": "code",
   "execution_count": null,
   "metadata": {},
   "outputs": [],
   "source": []
  }
 ],
 "metadata": {
  "kernelspec": {
   "display_name": "mestrado",
   "language": "python",
   "name": "python3"
  },
  "language_info": {
   "codemirror_mode": {
    "name": "ipython",
    "version": 3
   },
   "file_extension": ".py",
   "mimetype": "text/x-python",
   "name": "python",
   "nbconvert_exporter": "python",
   "pygments_lexer": "ipython3",
   "version": "3.12.7"
  }
 },
 "nbformat": 4,
 "nbformat_minor": 2
}
