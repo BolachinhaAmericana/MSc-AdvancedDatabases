{
 "cells": [
  {
   "cell_type": "code",
   "execution_count": 1,
   "metadata": {},
   "outputs": [],
   "source": [
    "import pandas as pd\n",
    "import numpy as np"
   ]
  },
  {
   "cell_type": "markdown",
   "metadata": {},
   "source": [
    "# Best Movie of the Year DF"
   ]
  },
  {
   "cell_type": "code",
   "execution_count": 2,
   "metadata": {},
   "outputs": [],
   "source": [
    "df_moty = pd.read_csv(\"../Data/Data-2/Best Movie by Year Netflix.csv\", index_col='index')"
   ]
  },
  {
   "cell_type": "code",
   "execution_count": 3,
   "metadata": {},
   "outputs": [
    {
     "data": {
      "text/html": [
       "<div>\n",
       "<style scoped>\n",
       "    .dataframe tbody tr th:only-of-type {\n",
       "        vertical-align: middle;\n",
       "    }\n",
       "\n",
       "    .dataframe tbody tr th {\n",
       "        vertical-align: top;\n",
       "    }\n",
       "\n",
       "    .dataframe thead th {\n",
       "        text-align: right;\n",
       "    }\n",
       "</style>\n",
       "<table border=\"1\" class=\"dataframe\">\n",
       "  <thead>\n",
       "    <tr style=\"text-align: right;\">\n",
       "      <th></th>\n",
       "      <th>TITLE</th>\n",
       "      <th>RELEASE_YEAR</th>\n",
       "      <th>SCORE</th>\n",
       "      <th>MAIN_GENRE</th>\n",
       "      <th>MAIN_PRODUCTION</th>\n",
       "    </tr>\n",
       "    <tr>\n",
       "      <th>index</th>\n",
       "      <th></th>\n",
       "      <th></th>\n",
       "      <th></th>\n",
       "      <th></th>\n",
       "      <th></th>\n",
       "    </tr>\n",
       "  </thead>\n",
       "  <tbody>\n",
       "    <tr>\n",
       "      <th>0</th>\n",
       "      <td>White Christmas</td>\n",
       "      <td>1954</td>\n",
       "      <td>7.5</td>\n",
       "      <td>romance</td>\n",
       "      <td>US</td>\n",
       "    </tr>\n",
       "    <tr>\n",
       "      <th>1</th>\n",
       "      <td>The Guns of Navarone</td>\n",
       "      <td>1961</td>\n",
       "      <td>7.5</td>\n",
       "      <td>war</td>\n",
       "      <td>US</td>\n",
       "    </tr>\n",
       "    <tr>\n",
       "      <th>2</th>\n",
       "      <td>My Fair Lady</td>\n",
       "      <td>1964</td>\n",
       "      <td>7.8</td>\n",
       "      <td>drama</td>\n",
       "      <td>US</td>\n",
       "    </tr>\n",
       "    <tr>\n",
       "      <th>3</th>\n",
       "      <td>Bonnie and Clyde</td>\n",
       "      <td>1967</td>\n",
       "      <td>7.7</td>\n",
       "      <td>drama</td>\n",
       "      <td>US</td>\n",
       "    </tr>\n",
       "    <tr>\n",
       "      <th>4</th>\n",
       "      <td>Dirty Harry</td>\n",
       "      <td>1971</td>\n",
       "      <td>7.7</td>\n",
       "      <td>thriller</td>\n",
       "      <td>US</td>\n",
       "    </tr>\n",
       "  </tbody>\n",
       "</table>\n",
       "</div>"
      ],
      "text/plain": [
       "                      TITLE  RELEASE_YEAR  SCORE MAIN_GENRE MAIN_PRODUCTION\n",
       "index                                                                      \n",
       "0           White Christmas          1954    7.5    romance              US\n",
       "1      The Guns of Navarone          1961    7.5        war              US\n",
       "2              My Fair Lady          1964    7.8      drama              US\n",
       "3          Bonnie and Clyde          1967    7.7      drama              US\n",
       "4               Dirty Harry          1971    7.7   thriller              US"
      ]
     },
     "execution_count": 3,
     "metadata": {},
     "output_type": "execute_result"
    }
   ],
   "source": [
    "df_moty.head()"
   ]
  },
  {
   "cell_type": "code",
   "execution_count": 4,
   "metadata": {},
   "outputs": [
    {
     "data": {
      "text/plain": [
       "TITLE              0\n",
       "RELEASE_YEAR       0\n",
       "SCORE              0\n",
       "MAIN_GENRE         0\n",
       "MAIN_PRODUCTION    0\n",
       "dtype: int64"
      ]
     },
     "execution_count": 4,
     "metadata": {},
     "output_type": "execute_result"
    }
   ],
   "source": [
    "df_moty.isnull().sum()"
   ]
  },
  {
   "cell_type": "code",
   "execution_count": 5,
   "metadata": {},
   "outputs": [
    {
     "name": "stdout",
     "output_type": "stream",
     "text": [
      "1954\n",
      "2022\n",
      "68\n",
      "49\n"
     ]
    }
   ],
   "source": [
    "print(min(df_moty.RELEASE_YEAR.values))\n",
    "print(max(df_moty.RELEASE_YEAR.values))\n",
    "print(max(df_moty.RELEASE_YEAR.values)- min(df_moty.RELEASE_YEAR.values))\n",
    "print(df_moty.RELEASE_YEAR.count())\n",
    "# There are some years missing"
   ]
  },
  {
   "cell_type": "code",
   "execution_count": 6,
   "metadata": {},
   "outputs": [
    {
     "data": {
      "text/plain": [
       "'\\nMovies awarded as \"Movie of the Year\"/Most Voted. With the respective year, score, main genre and production country\\n'"
      ]
     },
     "execution_count": 6,
     "metadata": {},
     "output_type": "execute_result"
    }
   ],
   "source": [
    "# DF Description: \n",
    "\"\"\"\n",
    "Movies awarded as \"Movie of the Year\"/Most Voted. With the respective year, score, main genre and production country\n",
    "\"\"\""
   ]
  },
  {
   "cell_type": "markdown",
   "metadata": {},
   "source": [
    "# Best Movie Netflix"
   ]
  },
  {
   "cell_type": "code",
   "execution_count": 7,
   "metadata": {},
   "outputs": [],
   "source": [
    "df_bmn = pd.read_csv(\"../Data/Data-2/Best Movies Netflix.csv\", index_col='index')"
   ]
  },
  {
   "cell_type": "code",
   "execution_count": 8,
   "metadata": {},
   "outputs": [
    {
     "data": {
      "text/html": [
       "<div>\n",
       "<style scoped>\n",
       "    .dataframe tbody tr th:only-of-type {\n",
       "        vertical-align: middle;\n",
       "    }\n",
       "\n",
       "    .dataframe tbody tr th {\n",
       "        vertical-align: top;\n",
       "    }\n",
       "\n",
       "    .dataframe thead th {\n",
       "        text-align: right;\n",
       "    }\n",
       "</style>\n",
       "<table border=\"1\" class=\"dataframe\">\n",
       "  <thead>\n",
       "    <tr style=\"text-align: right;\">\n",
       "      <th></th>\n",
       "      <th>TITLE</th>\n",
       "      <th>RELEASE_YEAR</th>\n",
       "      <th>SCORE</th>\n",
       "      <th>NUMBER_OF_VOTES</th>\n",
       "      <th>DURATION</th>\n",
       "      <th>MAIN_GENRE</th>\n",
       "      <th>MAIN_PRODUCTION</th>\n",
       "    </tr>\n",
       "    <tr>\n",
       "      <th>index</th>\n",
       "      <th></th>\n",
       "      <th></th>\n",
       "      <th></th>\n",
       "      <th></th>\n",
       "      <th></th>\n",
       "      <th></th>\n",
       "      <th></th>\n",
       "    </tr>\n",
       "  </thead>\n",
       "  <tbody>\n",
       "    <tr>\n",
       "      <th>0</th>\n",
       "      <td>David Attenborough: A Life on Our Planet</td>\n",
       "      <td>2020</td>\n",
       "      <td>9.0</td>\n",
       "      <td>31180</td>\n",
       "      <td>83</td>\n",
       "      <td>documentary</td>\n",
       "      <td>GB</td>\n",
       "    </tr>\n",
       "    <tr>\n",
       "      <th>1</th>\n",
       "      <td>Inception</td>\n",
       "      <td>2010</td>\n",
       "      <td>8.8</td>\n",
       "      <td>2268288</td>\n",
       "      <td>148</td>\n",
       "      <td>scifi</td>\n",
       "      <td>GB</td>\n",
       "    </tr>\n",
       "    <tr>\n",
       "      <th>2</th>\n",
       "      <td>Forrest Gump</td>\n",
       "      <td>1994</td>\n",
       "      <td>8.8</td>\n",
       "      <td>1994599</td>\n",
       "      <td>142</td>\n",
       "      <td>drama</td>\n",
       "      <td>US</td>\n",
       "    </tr>\n",
       "    <tr>\n",
       "      <th>3</th>\n",
       "      <td>Anbe Sivam</td>\n",
       "      <td>2003</td>\n",
       "      <td>8.7</td>\n",
       "      <td>20595</td>\n",
       "      <td>160</td>\n",
       "      <td>comedy</td>\n",
       "      <td>IN</td>\n",
       "    </tr>\n",
       "    <tr>\n",
       "      <th>4</th>\n",
       "      <td>Bo Burnham: Inside</td>\n",
       "      <td>2021</td>\n",
       "      <td>8.7</td>\n",
       "      <td>44074</td>\n",
       "      <td>87</td>\n",
       "      <td>comedy</td>\n",
       "      <td>US</td>\n",
       "    </tr>\n",
       "  </tbody>\n",
       "</table>\n",
       "</div>"
      ],
      "text/plain": [
       "                                          TITLE  RELEASE_YEAR  SCORE  \\\n",
       "index                                                                  \n",
       "0      David Attenborough: A Life on Our Planet          2020    9.0   \n",
       "1                                     Inception          2010    8.8   \n",
       "2                                  Forrest Gump          1994    8.8   \n",
       "3                                    Anbe Sivam          2003    8.7   \n",
       "4                            Bo Burnham: Inside          2021    8.7   \n",
       "\n",
       "       NUMBER_OF_VOTES  DURATION   MAIN_GENRE MAIN_PRODUCTION  \n",
       "index                                                          \n",
       "0                31180        83  documentary              GB  \n",
       "1              2268288       148        scifi              GB  \n",
       "2              1994599       142        drama              US  \n",
       "3                20595       160       comedy              IN  \n",
       "4                44074        87       comedy              US  "
      ]
     },
     "execution_count": 8,
     "metadata": {},
     "output_type": "execute_result"
    }
   ],
   "source": [
    "df_bmn.head()"
   ]
  },
  {
   "cell_type": "code",
   "execution_count": 9,
   "metadata": {},
   "outputs": [
    {
     "data": {
      "text/plain": [
       "(387, 7)"
      ]
     },
     "execution_count": 9,
     "metadata": {},
     "output_type": "execute_result"
    }
   ],
   "source": [
    "df_bmn.shape"
   ]
  },
  {
   "cell_type": "code",
   "execution_count": 10,
   "metadata": {},
   "outputs": [
    {
     "data": {
      "text/plain": [
       "6.9"
      ]
     },
     "execution_count": 10,
     "metadata": {},
     "output_type": "execute_result"
    }
   ],
   "source": [
    "min(df_bmn['SCORE'])"
   ]
  },
  {
   "cell_type": "code",
   "execution_count": 11,
   "metadata": {},
   "outputs": [
    {
     "data": {
      "text/plain": [
       "TITLE              0\n",
       "RELEASE_YEAR       0\n",
       "SCORE              0\n",
       "NUMBER_OF_VOTES    0\n",
       "DURATION           0\n",
       "MAIN_GENRE         0\n",
       "MAIN_PRODUCTION    0\n",
       "dtype: int64"
      ]
     },
     "execution_count": 11,
     "metadata": {},
     "output_type": "execute_result"
    }
   ],
   "source": [
    "df_bmn.isnull().sum()"
   ]
  },
  {
   "cell_type": "code",
   "execution_count": 12,
   "metadata": {},
   "outputs": [
    {
     "data": {
      "text/plain": [
       "np.int64(229)"
      ]
     },
     "execution_count": 12,
     "metadata": {},
     "output_type": "execute_result"
    }
   ],
   "source": [
    "min(df_bmn['DURATION'].values)\n",
    "max(df_bmn['DURATION'].values)\n"
   ]
  },
  {
   "cell_type": "code",
   "execution_count": null,
   "metadata": {},
   "outputs": [
    {
     "data": {
      "text/plain": [
       "' \\nBest Netflix Movies (with a score <= 6.9/10)\\nScored, and votes for movie of the year award.\\nwith Duration (mins), genre and production country\\n'"
      ]
     },
     "execution_count": 13,
     "metadata": {},
     "output_type": "execute_result"
    }
   ],
   "source": [
    "# DataFrame Description\n",
    "\"\"\" \n",
    "Best Netflix Movies (with a score >= 6.9/10)\n",
    "Scored, and votes for movie of the year award.\n",
    "with Duration (mins), genre and production country\n",
    "\"\"\""
   ]
  },
  {
   "cell_type": "markdown",
   "metadata": {},
   "source": [
    "# Best Show By Year"
   ]
  },
  {
   "cell_type": "code",
   "execution_count": 14,
   "metadata": {},
   "outputs": [],
   "source": [
    "df_bsy = pd.read_csv('../Data/Data-2/Best Show by Year Netflix.csv', index_col='index')"
   ]
  },
  {
   "cell_type": "code",
   "execution_count": 15,
   "metadata": {},
   "outputs": [
    {
     "data": {
      "text/html": [
       "<div>\n",
       "<style scoped>\n",
       "    .dataframe tbody tr th:only-of-type {\n",
       "        vertical-align: middle;\n",
       "    }\n",
       "\n",
       "    .dataframe tbody tr th {\n",
       "        vertical-align: top;\n",
       "    }\n",
       "\n",
       "    .dataframe thead th {\n",
       "        text-align: right;\n",
       "    }\n",
       "</style>\n",
       "<table border=\"1\" class=\"dataframe\">\n",
       "  <thead>\n",
       "    <tr style=\"text-align: right;\">\n",
       "      <th></th>\n",
       "      <th>TITLE</th>\n",
       "      <th>RELEASE_YEAR</th>\n",
       "      <th>SCORE</th>\n",
       "      <th>NUMBER_OF_SEASONS</th>\n",
       "      <th>MAIN_GENRE</th>\n",
       "      <th>MAIN_PRODUCTION</th>\n",
       "    </tr>\n",
       "    <tr>\n",
       "      <th>index</th>\n",
       "      <th></th>\n",
       "      <th></th>\n",
       "      <th></th>\n",
       "      <th></th>\n",
       "      <th></th>\n",
       "      <th></th>\n",
       "    </tr>\n",
       "  </thead>\n",
       "  <tbody>\n",
       "    <tr>\n",
       "      <th>0</th>\n",
       "      <td>Monty Python's Flying Circus</td>\n",
       "      <td>1969</td>\n",
       "      <td>8.8</td>\n",
       "      <td>4</td>\n",
       "      <td>comedy</td>\n",
       "      <td>GB</td>\n",
       "    </tr>\n",
       "    <tr>\n",
       "      <th>1</th>\n",
       "      <td>Knight Rider</td>\n",
       "      <td>1982</td>\n",
       "      <td>6.9</td>\n",
       "      <td>4</td>\n",
       "      <td>action</td>\n",
       "      <td>US</td>\n",
       "    </tr>\n",
       "    <tr>\n",
       "      <th>2</th>\n",
       "      <td>Seinfeld</td>\n",
       "      <td>1989</td>\n",
       "      <td>8.9</td>\n",
       "      <td>9</td>\n",
       "      <td>comedy</td>\n",
       "      <td>US</td>\n",
       "    </tr>\n",
       "    <tr>\n",
       "      <th>3</th>\n",
       "      <td>Star Trek: Deep Space Nine</td>\n",
       "      <td>1993</td>\n",
       "      <td>8.1</td>\n",
       "      <td>7</td>\n",
       "      <td>scifi</td>\n",
       "      <td>US</td>\n",
       "    </tr>\n",
       "    <tr>\n",
       "      <th>4</th>\n",
       "      <td>Neon Genesis Evangelion</td>\n",
       "      <td>1995</td>\n",
       "      <td>8.5</td>\n",
       "      <td>1</td>\n",
       "      <td>scifi</td>\n",
       "      <td>JP</td>\n",
       "    </tr>\n",
       "  </tbody>\n",
       "</table>\n",
       "</div>"
      ],
      "text/plain": [
       "                              TITLE  RELEASE_YEAR  SCORE  NUMBER_OF_SEASONS  \\\n",
       "index                                                                         \n",
       "0      Monty Python's Flying Circus          1969    8.8                  4   \n",
       "1                      Knight Rider          1982    6.9                  4   \n",
       "2                          Seinfeld          1989    8.9                  9   \n",
       "3        Star Trek: Deep Space Nine          1993    8.1                  7   \n",
       "4           Neon Genesis Evangelion          1995    8.5                  1   \n",
       "\n",
       "      MAIN_GENRE MAIN_PRODUCTION  \n",
       "index                             \n",
       "0         comedy              GB  \n",
       "1         action              US  \n",
       "2         comedy              US  \n",
       "3          scifi              US  \n",
       "4          scifi              JP  "
      ]
     },
     "execution_count": 15,
     "metadata": {},
     "output_type": "execute_result"
    }
   ],
   "source": [
    "df_bsy.head()"
   ]
  },
  {
   "cell_type": "code",
   "execution_count": 16,
   "metadata": {},
   "outputs": [
    {
     "data": {
      "text/plain": [
       "TITLE                0\n",
       "RELEASE_YEAR         0\n",
       "SCORE                0\n",
       "NUMBER_OF_SEASONS    0\n",
       "MAIN_GENRE           0\n",
       "MAIN_PRODUCTION      0\n",
       "dtype: int64"
      ]
     },
     "execution_count": 16,
     "metadata": {},
     "output_type": "execute_result"
    }
   ],
   "source": [
    "df_bsy.isnull().sum()"
   ]
  },
  {
   "cell_type": "code",
   "execution_count": 17,
   "metadata": {},
   "outputs": [
    {
     "name": "stdout",
     "output_type": "stream",
     "text": [
      "1969\n",
      "2022\n",
      "53\n",
      "31\n"
     ]
    }
   ],
   "source": [
    "print(min(df_bsy.RELEASE_YEAR.values))\n",
    "print(max(df_bsy.RELEASE_YEAR.values))\n",
    "print(max(df_bsy.RELEASE_YEAR.values)- min(df_bsy.RELEASE_YEAR.values))\n",
    "print(df_bsy.RELEASE_YEAR.count())\n",
    "# There are some years missing"
   ]
  },
  {
   "cell_type": "markdown",
   "metadata": {},
   "source": [
    "# Best Shows Netflix"
   ]
  },
  {
   "cell_type": "code",
   "execution_count": 18,
   "metadata": {},
   "outputs": [],
   "source": [
    "df_bsn = pd.read_csv('../Data/Data-2/Best Shows Netflix.csv', index_col='index')"
   ]
  },
  {
   "cell_type": "code",
   "execution_count": 20,
   "metadata": {},
   "outputs": [
    {
     "data": {
      "text/html": [
       "<div>\n",
       "<style scoped>\n",
       "    .dataframe tbody tr th:only-of-type {\n",
       "        vertical-align: middle;\n",
       "    }\n",
       "\n",
       "    .dataframe tbody tr th {\n",
       "        vertical-align: top;\n",
       "    }\n",
       "\n",
       "    .dataframe thead th {\n",
       "        text-align: right;\n",
       "    }\n",
       "</style>\n",
       "<table border=\"1\" class=\"dataframe\">\n",
       "  <thead>\n",
       "    <tr style=\"text-align: right;\">\n",
       "      <th></th>\n",
       "      <th>TITLE</th>\n",
       "      <th>RELEASE_YEAR</th>\n",
       "      <th>SCORE</th>\n",
       "      <th>NUMBER_OF_VOTES</th>\n",
       "      <th>DURATION</th>\n",
       "      <th>NUMBER_OF_SEASONS</th>\n",
       "      <th>MAIN_GENRE</th>\n",
       "      <th>MAIN_PRODUCTION</th>\n",
       "    </tr>\n",
       "    <tr>\n",
       "      <th>index</th>\n",
       "      <th></th>\n",
       "      <th></th>\n",
       "      <th></th>\n",
       "      <th></th>\n",
       "      <th></th>\n",
       "      <th></th>\n",
       "      <th></th>\n",
       "      <th></th>\n",
       "    </tr>\n",
       "  </thead>\n",
       "  <tbody>\n",
       "    <tr>\n",
       "      <th>0</th>\n",
       "      <td>Breaking Bad</td>\n",
       "      <td>2008</td>\n",
       "      <td>9.5</td>\n",
       "      <td>1727694</td>\n",
       "      <td>48</td>\n",
       "      <td>5</td>\n",
       "      <td>drama</td>\n",
       "      <td>US</td>\n",
       "    </tr>\n",
       "    <tr>\n",
       "      <th>1</th>\n",
       "      <td>Avatar: The Last Airbender</td>\n",
       "      <td>2005</td>\n",
       "      <td>9.3</td>\n",
       "      <td>297336</td>\n",
       "      <td>24</td>\n",
       "      <td>3</td>\n",
       "      <td>scifi</td>\n",
       "      <td>US</td>\n",
       "    </tr>\n",
       "    <tr>\n",
       "      <th>2</th>\n",
       "      <td>Our Planet</td>\n",
       "      <td>2019</td>\n",
       "      <td>9.3</td>\n",
       "      <td>41386</td>\n",
       "      <td>50</td>\n",
       "      <td>1</td>\n",
       "      <td>documentary</td>\n",
       "      <td>GB</td>\n",
       "    </tr>\n",
       "    <tr>\n",
       "      <th>3</th>\n",
       "      <td>Kota Factory</td>\n",
       "      <td>2019</td>\n",
       "      <td>9.3</td>\n",
       "      <td>66985</td>\n",
       "      <td>42</td>\n",
       "      <td>2</td>\n",
       "      <td>drama</td>\n",
       "      <td>IN</td>\n",
       "    </tr>\n",
       "    <tr>\n",
       "      <th>4</th>\n",
       "      <td>The Last Dance</td>\n",
       "      <td>2020</td>\n",
       "      <td>9.1</td>\n",
       "      <td>108321</td>\n",
       "      <td>50</td>\n",
       "      <td>1</td>\n",
       "      <td>documentary</td>\n",
       "      <td>US</td>\n",
       "    </tr>\n",
       "  </tbody>\n",
       "</table>\n",
       "</div>"
      ],
      "text/plain": [
       "                            TITLE  RELEASE_YEAR  SCORE  NUMBER_OF_VOTES  \\\n",
       "index                                                                     \n",
       "0                    Breaking Bad          2008    9.5          1727694   \n",
       "1      Avatar: The Last Airbender          2005    9.3           297336   \n",
       "2                      Our Planet          2019    9.3            41386   \n",
       "3                    Kota Factory          2019    9.3            66985   \n",
       "4                  The Last Dance          2020    9.1           108321   \n",
       "\n",
       "       DURATION  NUMBER_OF_SEASONS   MAIN_GENRE MAIN_PRODUCTION  \n",
       "index                                                            \n",
       "0            48                  5        drama              US  \n",
       "1            24                  3        scifi              US  \n",
       "2            50                  1  documentary              GB  \n",
       "3            42                  2        drama              IN  \n",
       "4            50                  1  documentary              US  "
      ]
     },
     "execution_count": 20,
     "metadata": {},
     "output_type": "execute_result"
    }
   ],
   "source": [
    "df_bsn.head()"
   ]
  },
  {
   "cell_type": "code",
   "execution_count": 21,
   "metadata": {},
   "outputs": [
    {
     "data": {
      "text/plain": [
       "TITLE                0\n",
       "RELEASE_YEAR         0\n",
       "SCORE                0\n",
       "NUMBER_OF_VOTES      0\n",
       "DURATION             0\n",
       "NUMBER_OF_SEASONS    0\n",
       "MAIN_GENRE           0\n",
       "MAIN_PRODUCTION      0\n",
       "dtype: int64"
      ]
     },
     "execution_count": 21,
     "metadata": {},
     "output_type": "execute_result"
    }
   ],
   "source": [
    "df_bsn.isnull().sum()"
   ]
  },
  {
   "cell_type": "code",
   "execution_count": 22,
   "metadata": {},
   "outputs": [
    {
     "data": {
      "text/plain": [
       "(246, 8)"
      ]
     },
     "execution_count": 22,
     "metadata": {},
     "output_type": "execute_result"
    }
   ],
   "source": [
    "df_bsn.shape"
   ]
  },
  {
   "cell_type": "code",
   "execution_count": 23,
   "metadata": {},
   "outputs": [
    {
     "data": {
      "text/plain": [
       "7.5"
      ]
     },
     "execution_count": 23,
     "metadata": {},
     "output_type": "execute_result"
    }
   ],
   "source": [
    "min(df_bsn['SCORE'])"
   ]
  },
  {
   "cell_type": "code",
   "execution_count": 29,
   "metadata": {},
   "outputs": [
    {
     "data": {
      "text/plain": [
       "SCORE\n",
       "7.5    27\n",
       "7.9    25\n",
       "7.6    24\n",
       "7.8    21\n",
       "8.4    20\n",
       "7.7    16\n",
       "8.1    15\n",
       "8.0    14\n",
       "8.2    14\n",
       "8.3    14\n",
       "8.5    14\n",
       "8.6    11\n",
       "8.7    11\n",
       "8.8     7\n",
       "8.9     4\n",
       "9.0     3\n",
       "9.3     3\n",
       "9.1     2\n",
       "9.5     1\n",
       "Name: count, dtype: int64"
      ]
     },
     "execution_count": 29,
     "metadata": {},
     "output_type": "execute_result"
    }
   ],
   "source": [
    "df_bsn['SCORE'].sort_values().value_counts()"
   ]
  },
  {
   "cell_type": "code",
   "execution_count": null,
   "metadata": {},
   "outputs": [],
   "source": [
    "# Netflix Shows with a score >= 7.5, with average episode duration and number of seasons, as well as season 1 release year."
   ]
  },
  {
   "cell_type": "markdown",
   "metadata": {},
   "source": [
    "# Raw Titles"
   ]
  },
  {
   "cell_type": "code",
   "execution_count": 39,
   "metadata": {},
   "outputs": [],
   "source": [
    "df_titles = pd.read_csv(\"../Data/Data-2/raw_titles.csv\", index_col='index')"
   ]
  },
  {
   "cell_type": "code",
   "execution_count": 40,
   "metadata": {},
   "outputs": [
    {
     "data": {
      "text/html": [
       "<div>\n",
       "<style scoped>\n",
       "    .dataframe tbody tr th:only-of-type {\n",
       "        vertical-align: middle;\n",
       "    }\n",
       "\n",
       "    .dataframe tbody tr th {\n",
       "        vertical-align: top;\n",
       "    }\n",
       "\n",
       "    .dataframe thead th {\n",
       "        text-align: right;\n",
       "    }\n",
       "</style>\n",
       "<table border=\"1\" class=\"dataframe\">\n",
       "  <thead>\n",
       "    <tr style=\"text-align: right;\">\n",
       "      <th></th>\n",
       "      <th>id</th>\n",
       "      <th>title</th>\n",
       "      <th>type</th>\n",
       "      <th>release_year</th>\n",
       "      <th>age_certification</th>\n",
       "      <th>runtime</th>\n",
       "      <th>genres</th>\n",
       "      <th>production_countries</th>\n",
       "      <th>seasons</th>\n",
       "      <th>imdb_id</th>\n",
       "      <th>imdb_score</th>\n",
       "      <th>imdb_votes</th>\n",
       "    </tr>\n",
       "    <tr>\n",
       "      <th>index</th>\n",
       "      <th></th>\n",
       "      <th></th>\n",
       "      <th></th>\n",
       "      <th></th>\n",
       "      <th></th>\n",
       "      <th></th>\n",
       "      <th></th>\n",
       "      <th></th>\n",
       "      <th></th>\n",
       "      <th></th>\n",
       "      <th></th>\n",
       "      <th></th>\n",
       "    </tr>\n",
       "  </thead>\n",
       "  <tbody>\n",
       "    <tr>\n",
       "      <th>0</th>\n",
       "      <td>ts300399</td>\n",
       "      <td>Five Came Back: The Reference Films</td>\n",
       "      <td>SHOW</td>\n",
       "      <td>1945</td>\n",
       "      <td>TV-MA</td>\n",
       "      <td>48</td>\n",
       "      <td>['documentation']</td>\n",
       "      <td>['US']</td>\n",
       "      <td>1.0</td>\n",
       "      <td>NaN</td>\n",
       "      <td>NaN</td>\n",
       "      <td>NaN</td>\n",
       "    </tr>\n",
       "    <tr>\n",
       "      <th>1</th>\n",
       "      <td>tm84618</td>\n",
       "      <td>Taxi Driver</td>\n",
       "      <td>MOVIE</td>\n",
       "      <td>1976</td>\n",
       "      <td>R</td>\n",
       "      <td>113</td>\n",
       "      <td>['crime', 'drama']</td>\n",
       "      <td>['US']</td>\n",
       "      <td>NaN</td>\n",
       "      <td>tt0075314</td>\n",
       "      <td>8.3</td>\n",
       "      <td>795222.0</td>\n",
       "    </tr>\n",
       "    <tr>\n",
       "      <th>2</th>\n",
       "      <td>tm127384</td>\n",
       "      <td>Monty Python and the Holy Grail</td>\n",
       "      <td>MOVIE</td>\n",
       "      <td>1975</td>\n",
       "      <td>PG</td>\n",
       "      <td>91</td>\n",
       "      <td>['comedy', 'fantasy']</td>\n",
       "      <td>['GB']</td>\n",
       "      <td>NaN</td>\n",
       "      <td>tt0071853</td>\n",
       "      <td>8.2</td>\n",
       "      <td>530877.0</td>\n",
       "    </tr>\n",
       "    <tr>\n",
       "      <th>3</th>\n",
       "      <td>tm70993</td>\n",
       "      <td>Life of Brian</td>\n",
       "      <td>MOVIE</td>\n",
       "      <td>1979</td>\n",
       "      <td>R</td>\n",
       "      <td>94</td>\n",
       "      <td>['comedy']</td>\n",
       "      <td>['GB']</td>\n",
       "      <td>NaN</td>\n",
       "      <td>tt0079470</td>\n",
       "      <td>8.0</td>\n",
       "      <td>392419.0</td>\n",
       "    </tr>\n",
       "    <tr>\n",
       "      <th>4</th>\n",
       "      <td>tm190788</td>\n",
       "      <td>The Exorcist</td>\n",
       "      <td>MOVIE</td>\n",
       "      <td>1973</td>\n",
       "      <td>R</td>\n",
       "      <td>133</td>\n",
       "      <td>['horror']</td>\n",
       "      <td>['US']</td>\n",
       "      <td>NaN</td>\n",
       "      <td>tt0070047</td>\n",
       "      <td>8.1</td>\n",
       "      <td>391942.0</td>\n",
       "    </tr>\n",
       "  </tbody>\n",
       "</table>\n",
       "</div>"
      ],
      "text/plain": [
       "             id                                title   type  release_year  \\\n",
       "index                                                                       \n",
       "0      ts300399  Five Came Back: The Reference Films   SHOW          1945   \n",
       "1       tm84618                          Taxi Driver  MOVIE          1976   \n",
       "2      tm127384      Monty Python and the Holy Grail  MOVIE          1975   \n",
       "3       tm70993                        Life of Brian  MOVIE          1979   \n",
       "4      tm190788                         The Exorcist  MOVIE          1973   \n",
       "\n",
       "      age_certification  runtime                 genres production_countries  \\\n",
       "index                                                                          \n",
       "0                 TV-MA       48      ['documentation']               ['US']   \n",
       "1                     R      113     ['crime', 'drama']               ['US']   \n",
       "2                    PG       91  ['comedy', 'fantasy']               ['GB']   \n",
       "3                     R       94             ['comedy']               ['GB']   \n",
       "4                     R      133             ['horror']               ['US']   \n",
       "\n",
       "       seasons    imdb_id  imdb_score  imdb_votes  \n",
       "index                                              \n",
       "0          1.0        NaN         NaN         NaN  \n",
       "1          NaN  tt0075314         8.3    795222.0  \n",
       "2          NaN  tt0071853         8.2    530877.0  \n",
       "3          NaN  tt0079470         8.0    392419.0  \n",
       "4          NaN  tt0070047         8.1    391942.0  "
      ]
     },
     "execution_count": 40,
     "metadata": {},
     "output_type": "execute_result"
    }
   ],
   "source": [
    "df_titles.head()"
   ]
  },
  {
   "cell_type": "code",
   "execution_count": 41,
   "metadata": {},
   "outputs": [
    {
     "data": {
      "text/plain": [
       "id                         0\n",
       "title                      1\n",
       "type                       0\n",
       "release_year               0\n",
       "age_certification       2610\n",
       "runtime                    0\n",
       "genres                     0\n",
       "production_countries       0\n",
       "seasons                 3759\n",
       "imdb_id                  444\n",
       "imdb_score               523\n",
       "imdb_votes               539\n",
       "dtype: int64"
      ]
     },
     "execution_count": 41,
     "metadata": {},
     "output_type": "execute_result"
    }
   ],
   "source": [
    "df_titles.isnull().sum()"
   ]
  },
  {
   "cell_type": "code",
   "execution_count": 42,
   "metadata": {},
   "outputs": [
    {
     "data": {
      "text/plain": [
       "id                         0\n",
       "title                      1\n",
       "type                       0\n",
       "release_year               0\n",
       "age_certification       2610\n",
       "runtime                    0\n",
       "genres                     0\n",
       "production_countries       0\n",
       "seasons                 3759\n",
       "imdb_id                  444\n",
       "imdb_score               523\n",
       "imdb_votes               539\n",
       "dtype: int64"
      ]
     },
     "execution_count": 42,
     "metadata": {},
     "output_type": "execute_result"
    }
   ],
   "source": [
    "df_titles = df_titles.replace(\"nan\", np.nan)\n",
    "df_titles.isnull().sum()"
   ]
  },
  {
   "cell_type": "code",
   "execution_count": null,
   "metadata": {},
   "outputs": [
    {
     "data": {
      "text/plain": [
       "array(['TV-MA', 'R', 'PG', 'TV-14', 'G', 'PG-13', nan, 'TV-PG', 'TV-Y',\n",
       "       'TV-G', 'TV-Y7', 'NC-17'], dtype=object)"
      ]
     },
     "execution_count": 43,
     "metadata": {},
     "output_type": "execute_result"
    }
   ],
   "source": [
    "df_titles.age_certification.unique()\n",
    "# TV-MA = R = 18+\n",
    "# PG = TV-PG = Parental Guidance\n",
    "# G = General/All\n",
    "# TV-Y = Recommended for young children under the age of 6\n",
    "# TV-Y7 = Recommended for young children \n",
    "# NC17 - NotChildren under the age of 17"
   ]
  },
  {
   "cell_type": "code",
   "execution_count": null,
   "metadata": {},
   "outputs": [],
   "source": []
  },
  {
   "cell_type": "markdown",
   "metadata": {},
   "source": [
    "# Credits"
   ]
  },
  {
   "cell_type": "code",
   "execution_count": 46,
   "metadata": {},
   "outputs": [],
   "source": [
    "df_credits = pd.read_csv(\"../Data/Data-2/raw_credits.csv\", index_col='index')"
   ]
  },
  {
   "cell_type": "code",
   "execution_count": 47,
   "metadata": {},
   "outputs": [
    {
     "data": {
      "text/html": [
       "<div>\n",
       "<style scoped>\n",
       "    .dataframe tbody tr th:only-of-type {\n",
       "        vertical-align: middle;\n",
       "    }\n",
       "\n",
       "    .dataframe tbody tr th {\n",
       "        vertical-align: top;\n",
       "    }\n",
       "\n",
       "    .dataframe thead th {\n",
       "        text-align: right;\n",
       "    }\n",
       "</style>\n",
       "<table border=\"1\" class=\"dataframe\">\n",
       "  <thead>\n",
       "    <tr style=\"text-align: right;\">\n",
       "      <th></th>\n",
       "      <th>person_id</th>\n",
       "      <th>id</th>\n",
       "      <th>name</th>\n",
       "      <th>character</th>\n",
       "      <th>role</th>\n",
       "    </tr>\n",
       "    <tr>\n",
       "      <th>index</th>\n",
       "      <th></th>\n",
       "      <th></th>\n",
       "      <th></th>\n",
       "      <th></th>\n",
       "      <th></th>\n",
       "    </tr>\n",
       "  </thead>\n",
       "  <tbody>\n",
       "    <tr>\n",
       "      <th>0</th>\n",
       "      <td>3748</td>\n",
       "      <td>tm84618</td>\n",
       "      <td>Robert De Niro</td>\n",
       "      <td>Travis Bickle</td>\n",
       "      <td>ACTOR</td>\n",
       "    </tr>\n",
       "    <tr>\n",
       "      <th>1</th>\n",
       "      <td>14658</td>\n",
       "      <td>tm84618</td>\n",
       "      <td>Jodie Foster</td>\n",
       "      <td>Iris Steensma</td>\n",
       "      <td>ACTOR</td>\n",
       "    </tr>\n",
       "    <tr>\n",
       "      <th>2</th>\n",
       "      <td>7064</td>\n",
       "      <td>tm84618</td>\n",
       "      <td>Albert Brooks</td>\n",
       "      <td>Tom</td>\n",
       "      <td>ACTOR</td>\n",
       "    </tr>\n",
       "    <tr>\n",
       "      <th>3</th>\n",
       "      <td>3739</td>\n",
       "      <td>tm84618</td>\n",
       "      <td>Harvey Keitel</td>\n",
       "      <td>Matthew 'Sport' Higgins</td>\n",
       "      <td>ACTOR</td>\n",
       "    </tr>\n",
       "    <tr>\n",
       "      <th>4</th>\n",
       "      <td>48933</td>\n",
       "      <td>tm84618</td>\n",
       "      <td>Cybill Shepherd</td>\n",
       "      <td>Betsy</td>\n",
       "      <td>ACTOR</td>\n",
       "    </tr>\n",
       "  </tbody>\n",
       "</table>\n",
       "</div>"
      ],
      "text/plain": [
       "       person_id       id             name                character   role\n",
       "index                                                                     \n",
       "0           3748  tm84618   Robert De Niro            Travis Bickle  ACTOR\n",
       "1          14658  tm84618     Jodie Foster            Iris Steensma  ACTOR\n",
       "2           7064  tm84618    Albert Brooks                      Tom  ACTOR\n",
       "3           3739  tm84618    Harvey Keitel  Matthew 'Sport' Higgins  ACTOR\n",
       "4          48933  tm84618  Cybill Shepherd                    Betsy  ACTOR"
      ]
     },
     "execution_count": 47,
     "metadata": {},
     "output_type": "execute_result"
    }
   ],
   "source": [
    "df_credits.head()"
   ]
  },
  {
   "cell_type": "code",
   "execution_count": 48,
   "metadata": {},
   "outputs": [
    {
     "data": {
      "text/plain": [
       "person_id       0\n",
       "id              0\n",
       "name            0\n",
       "character    9627\n",
       "role            0\n",
       "dtype: int64"
      ]
     },
     "execution_count": 48,
     "metadata": {},
     "output_type": "execute_result"
    }
   ],
   "source": [
    "df_credits.isnull().sum()"
   ]
  },
  {
   "cell_type": "code",
   "execution_count": 52,
   "metadata": {},
   "outputs": [
    {
     "data": {
      "text/plain": [
       "array(['ACTOR', 'DIRECTOR'], dtype=object)"
      ]
     },
     "execution_count": 52,
     "metadata": {},
     "output_type": "execute_result"
    }
   ],
   "source": [
    "df_credits.role.unique()"
   ]
  },
  {
   "cell_type": "code",
   "execution_count": 53,
   "metadata": {},
   "outputs": [
    {
     "data": {
      "text/plain": [
       "person_id\n",
       "38632      30\n",
       "48004      25\n",
       "38636      25\n",
       "1345       25\n",
       "138        22\n",
       "           ..\n",
       "186608      1\n",
       "1893766     1\n",
       "746438      1\n",
       "1342623     1\n",
       "198649      1\n",
       "Name: count, Length: 53956, dtype: int64"
      ]
     },
     "execution_count": 53,
     "metadata": {},
     "output_type": "execute_result"
    }
   ],
   "source": [
    "df_credits.person_id.value_counts()"
   ]
  },
  {
   "cell_type": "code",
   "execution_count": 56,
   "metadata": {},
   "outputs": [
    {
     "data": {
      "text/plain": [
       "character\n",
       "Self                      1667\n",
       "Himself                   1237\n",
       "Herself                    444\n",
       "Self (archive footage)     327\n",
       "Dancer                     168\n",
       "                          ... \n",
       "Akinola                      1\n",
       "Akanji's Father              1\n",
       "Afinni                       1\n",
       "Dr. Ian Stones               1\n",
       "Karlene                      1\n",
       "Name: count, Length: 47125, dtype: int64"
      ]
     },
     "execution_count": 56,
     "metadata": {},
     "output_type": "execute_result"
    }
   ],
   "source": [
    "df_credits.character.value_counts()"
   ]
  },
  {
   "cell_type": "code",
   "execution_count": 57,
   "metadata": {},
   "outputs": [
    {
     "data": {
      "text/plain": [
       "array(['ACTOR', 'DIRECTOR'], dtype=object)"
      ]
     },
     "execution_count": 57,
     "metadata": {},
     "output_type": "execute_result"
    }
   ],
   "source": [
    "df_credits.role.unique()"
   ]
  },
  {
   "cell_type": "code",
   "execution_count": null,
   "metadata": {},
   "outputs": [],
   "source": [
    "# Actors and Directors of movies and their respective play"
   ]
  }
 ],
 "metadata": {
  "kernelspec": {
   "display_name": "mestrado",
   "language": "python",
   "name": "python3"
  },
  "language_info": {
   "codemirror_mode": {
    "name": "ipython",
    "version": 3
   },
   "file_extension": ".py",
   "mimetype": "text/x-python",
   "name": "python",
   "nbconvert_exporter": "python",
   "pygments_lexer": "ipython3",
   "version": "3.12.7"
  }
 },
 "nbformat": 4,
 "nbformat_minor": 2
}
